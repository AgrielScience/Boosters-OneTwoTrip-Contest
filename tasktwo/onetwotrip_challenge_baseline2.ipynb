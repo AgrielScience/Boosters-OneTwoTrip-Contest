{
 "cells": [
  {
   "cell_type": "code",
   "execution_count": 1,
   "metadata": {},
   "outputs": [],
   "source": [
    "import pandas as pd\n",
    "from sklearn.metrics import roc_auc_score\n",
    "from sklearn.model_selection import StratifiedKFold\n",
    "import numpy as np\n",
    "%matplotlib inline"
   ]
  },
  {
   "cell_type": "code",
   "execution_count": 2,
   "metadata": {},
   "outputs": [],
   "source": [
    "from catboost import CatBoostClassifier"
   ]
  },
  {
   "cell_type": "code",
   "execution_count": 3,
   "metadata": {},
   "outputs": [],
   "source": [
    "df_train = pd.read_csv('onetwotrip_challenge_train.csv')\n",
    "df_test = pd.read_csv('onetwotrip_challenge_test.csv')"
   ]
  },
  {
   "cell_type": "code",
   "execution_count": 4,
   "metadata": {},
   "outputs": [],
   "source": [
    "# features for training\n",
    "features = list(filter(lambda x: 'field' in x, df_train.columns))"
   ]
  },
  {
   "cell_type": "code",
   "execution_count": 5,
   "metadata": {},
   "outputs": [],
   "source": [
    "goals = list(filter(lambda x: 'goal' in x and 'indicator' not in x, df_train.columns))[:-1]"
   ]
  },
  {
   "cell_type": "code",
   "execution_count": 6,
   "metadata": {},
   "outputs": [],
   "source": [
    "kf = StratifiedKFold(n_splits=5, random_state=0)"
   ]
  },
  {
   "cell_type": "code",
   "execution_count": 7,
   "metadata": {},
   "outputs": [],
   "source": [
    "clfs = [CatBoostClassifier(logging_level='Silent', random_state=0) for goal in goals]"
   ]
  },
  {
   "cell_type": "code",
   "execution_count": 8,
   "metadata": {},
   "outputs": [],
   "source": [
    "def train_clfs(X, goals, clfs):\n",
    "    for idx in range(goals.shape[1]):\n",
    "        y = goals.iloc[:, idx]\n",
    "        clfs[idx].fit(X, y)\n",
    "    return clfs\n",
    "\n",
    "def predict_goals_proba(X, clfs, goals_cols):\n",
    "    res = pd.DataFrame([], columns=goals_cols)\n",
    "    for i, clf in enumerate(clfs):\n",
    "        res[goals_cols[i]] = clf.predict_proba(X)[:, 1]\n",
    "    return pd.DataFrame(res, columns=goals_cols)\n",
    "\n",
    "def score_probas(goals_probas, goals_true):\n",
    "    scores = []\n",
    "    for goal in goals_probas.columns:\n",
    "        scores.append(roc_auc_score(goals_true[goal], goals_probas[goal]))\n",
    "    return np.mean(scores)"
   ]
  },
  {
   "cell_type": "code",
   "execution_count": 9,
   "metadata": {},
   "outputs": [],
   "source": [
    "Y = (df_train[goals] == 1).any(axis=1)*1"
   ]
  },
  {
   "cell_type": "code",
   "execution_count": 10,
   "metadata": {
    "scrolled": true
   },
   "outputs": [
    {
     "name": "stdout",
     "output_type": "stream",
     "text": [
      "Score 0.8045328812891773 ± 0.0020956252722654956\n"
     ]
    }
   ],
   "source": [
    "# cross validation\n",
    "scores = []\n",
    "for train_idx, test_idx in kf.split(df_train[features], Y):\n",
    "    tmp_train, tmp_test = df_train.loc[train_idx], df_train.loc[test_idx]\n",
    "    train_clfs(tmp_train[features], tmp_train[goals], clfs)\n",
    "    probas = predict_goals_proba(tmp_test[features], clfs, goals)\n",
    "    scores += [score_probas(probas, tmp_test[goals])]\n",
    "print(f\"Score {np.mean(scores)} ± {np.std(scores)}\")"
   ]
  },
  {
   "cell_type": "code",
   "execution_count": 11,
   "metadata": {},
   "outputs": [
    {
     "data": {
      "text/plain": [
       "[<catboost.core.CatBoostClassifier at 0x125df1e48>,\n",
       " <catboost.core.CatBoostClassifier at 0x125df1e80>,\n",
       " <catboost.core.CatBoostClassifier at 0x125df1eb8>,\n",
       " <catboost.core.CatBoostClassifier at 0x125df1ef0>,\n",
       " <catboost.core.CatBoostClassifier at 0x125df1f28>]"
      ]
     },
     "execution_count": 11,
     "metadata": {},
     "output_type": "execute_result"
    }
   ],
   "source": [
    "# fit classifier on the whole dataset\n",
    "train_clfs(df_train[features], df_train[goals], clfs)"
   ]
  },
  {
   "cell_type": "code",
   "execution_count": 12,
   "metadata": {
    "scrolled": true
   },
   "outputs": [],
   "source": [
    "# get probabilities\n",
    "probas = predict_goals_proba(df_test[features], clfs, goals)"
   ]
  },
  {
   "cell_type": "code",
   "execution_count": 13,
   "metadata": {},
   "outputs": [],
   "source": [
    "probas.to_csv('sub2.csv')"
   ]
  },
  {
   "cell_type": "code",
   "execution_count": null,
   "metadata": {},
   "outputs": [],
   "source": []
  }
 ],
 "metadata": {
  "kernelspec": {
   "display_name": "Python 3",
   "language": "python",
   "name": "python3"
  },
  "language_info": {
   "codemirror_mode": {
    "name": "ipython",
    "version": 3
   },
   "file_extension": ".py",
   "mimetype": "text/x-python",
   "name": "python",
   "nbconvert_exporter": "python",
   "pygments_lexer": "ipython3",
   "version": "3.6.7"
  }
 },
 "nbformat": 4,
 "nbformat_minor": 2
}
